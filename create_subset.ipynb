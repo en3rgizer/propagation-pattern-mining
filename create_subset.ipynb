{
 "cells": [
  {
   "cell_type": "code",
   "execution_count": null,
   "id": "d44f192c-d36b-4093-a4aa-06544b3bdbc0",
   "metadata": {
    "pycharm": {
     "is_executing": true
    }
   },
   "outputs": [],
   "source": [
    "from conf import *\n",
    "import pyspark\n",
    "import pandas as pd\n",
    "import subprocess\n",
    "import time\n",
    "\n",
    "sc.stop()\n",
    "# Create new config\n",
    "conf = pyspark.SparkConf().setAll([(\"spark.driver.maxResultSize\", '16g'), ('spark.executor.memoryOverhead', '16g'), ('spark.executor.memory', '16g')])\n",
    "\n",
    "SparkSession.builder.config(conf=conf)\n",
    "spark = SparkSession.builder.appName('test').getOrCreate()\n",
    "sc = spark.sparkContext\n",
    "sc.addPyFile('file:/event.py')\n",
    "sc.addPyFile('file:/interval_tree.py')\n",
    "storage_level = pyspark.StorageLevel.MEMORY_AND_DISK\n",
    "sc.setLogLevel(\"OFF\")\n",
    "\n",
    "start = time.time()\n",
    "\n",
    "traffic_path = 'file:/datasets/TrafficEvents_Aug16_Dec20_Publish.csv'\n",
    "weather_path = 'file:/datasets/WeatherEvents_Aug16_Dec20_Publish.csv'\n",
    "\n",
    "\n",
    "def format_airport_row(r: str) -> str:\n",
    "    parts = r.split(',')\n",
    "    return (str(int(parts[0])),parts[1])\n",
    "\n",
    "print(\"Loading Traffic and Weather events...\")\n",
    "input_rdd = sc.textFile(traffic_path)\n",
    "input_rdd2 = sc.textFile(weather_path)\n",
    "input_rdd3 = sc.textFile(airport_path).filter(lambda it: not it.startswith('Zip,')).map(format_airport_row)                                                                                                          \n",
    "print(\"%d Traffic events\\n%d Weather events\" % (input_rdd.count(),input_rdd2.count()))\n",
    "\n",
    "la_airport = input_rdd3.filter(lambda it: it[0] in zips_to_filter)\n",
    "airport_to_filter = la_airport.map(lambda it: it[1]).distinct().collect()\n",
    "\n",
    "\n",
    "print(f'\\n{CITY} zipCodes:')\n",
    "print(zips_to_filter)\n",
    "print(f'\\n{CITY} airportCodes:')\n",
    "print(airport_to_filter)\n",
    "\n",
    "traffic_rdd_map = input_rdd.filter(lambda it: it.split(',')[18] in zips_to_filter)\n",
    "weather_rdd_map = input_rdd2.filter(lambda it: it.split(',')[8] in airport_to_filter)\n",
    "\n",
    "traffic_rdd_map.saveAsTextFile('file:/datasets/subset_traffic')\n",
    "weather_rdd_map.saveAsTextFile('file:/datasets/subset_weather')\n",
    "\n",
    "subprocess.call(f'cat subset_traffic/part* > TrafficEvents_Aug16_Dec20_Publish_{CITY}.csv', shell=True, cwd='datasets/')\n",
    "subprocess.call(f'cat subset_weather/part* > WeatherEvents_Aug16_Dec20_Publish_{CITY}.csv', shell=True, cwd='datasets/')\n",
    "subprocess.call('rm -r subset_*', shell=True, cwd='datasets/')\n",
    "\n",
    "print(\"%d Traffic events\\n%d Weather events\" % (traffic_rdd_map.count(),weather_rdd_map.count()))\n",
    "print(\"Elapsed Time: %.2fs\" % (time.time()-start))"
   ]
  }
 ],
 "metadata": {
  "kernelspec": {
   "display_name": "PySpark (Yarn)",
   "language": "python",
   "name": "pyspark_yarn"
  },
  "language_info": {
   "codemirror_mode": {
    "name": "ipython",
    "version": 3
   },
   "file_extension": ".py",
   "mimetype": "text/x-python",
   "name": "python",
   "nbconvert_exporter": "python",
   "pygments_lexer": "ipython3",
   "version": "3.7.12"
  }
 },
 "nbformat": 4,
 "nbformat_minor": 5
}
